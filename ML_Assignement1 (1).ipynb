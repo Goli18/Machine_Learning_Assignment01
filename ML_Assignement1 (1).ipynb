{
  "nbformat": 4,
  "nbformat_minor": 0,
  "metadata": {
    "colab": {
      "provenance": []
    },
    "kernelspec": {
      "name": "python3",
      "display_name": "Python 3"
    },
    "language_info": {
      "name": "python"
    }
  },
  "cells": [
    {
      "cell_type": "code",
      "execution_count": null,
      "metadata": {
        "colab": {
          "base_uri": "https://localhost:8080/"
        },
        "id": "qHzai-8sQIj4",
        "outputId": "ba09513d-7e23-48c4-93fb-7c5d01528369"
      },
      "outputs": [
        {
          "output_type": "stream",
          "name": "stdout",
          "text": [
            "The List after sorting [19, 19, 20, 22, 24, 24, 24, 25, 25, 26]\n",
            "The maximum age is  26\n",
            "The minimum age is  19\n",
            "The updated list is  [19, 19, 20, 22, 24, 24, 24, 25, 25, 26, 26, 19]\n",
            "The median is  24.0\n",
            "The average is  22.75\n",
            "The range is  7\n"
          ]
        }
      ],
      "source": [
        "# Question 1\n",
        "# The following is a list of 10 students ages:\n",
        "# ages = [19, 22, 19, 24, 20, 25, 26, 24, 25, 24]\n",
        "# • Sort the list and find the min and max age\n",
        "# • Add the min age and the max age again to the list\n",
        "# • Find the median age (one middle item or two middle items divided by two)\n",
        "# • Find the average age (sum of all items divided by their number)\n",
        "# • Find the range of the ages (max minus min)\n",
        "\n",
        "ages = [19, 22, 19, 24, 20, 25, 26, 24, 25, 24]\n",
        "ages.sort()\n",
        "print(\"The List after sorting\",ages)\n",
        "max_age = max(ages)\n",
        "print(\"The maximum age is \",max_age)\n",
        "min_age = min(ages)\n",
        "print(\"The minimum age is \",min_age )\n",
        "ages.append(max_age)\n",
        "ages.append(min_age)\n",
        "print(\"The updated list is \",ages)\n",
        "mid_value = len(ages) // 2\n",
        "median = (ages[mid_value] + ages[~mid_value]) / 2\n",
        "print(\"The median is \",median)\n",
        "avg = sum(ages)/len(ages)\n",
        "print(\"The average is \", round(avg,2))\n",
        "range = max(ages)-min(ages)\n",
        "print(\"The range is \",range)\n",
        "\n",
        "\n",
        "\n",
        "\n"
      ]
    },
    {
      "cell_type": "code",
      "source": [
        "# Question 2\n",
        "# • Create an empty dictionary called dog\n",
        "# • Add name, color, breed, legs, age to the dog dictionary\n",
        "# • Create a student dictionary and add first_name, last_name, gender, age, marital status, \n",
        "# skills, country, city and address as keys for the dictionary\n",
        "# • Get the length of the student dictionary\n",
        "# • Get the value of skills and check the data type, it should be a list\n",
        "# • Modify the skills values by adding one or two skills\n",
        "# • Get the dictionary keys as a list\n",
        "# • Get the dictionary values as a list\n",
        "\n",
        "dog = {}\n",
        "dog[\"name\"] = \"maxie\"\n",
        "dog[\"color\"] = \"brown\"\n",
        "dog[\"breed\"] = \"golden doodle\"\n",
        "dog[\"legs\"] = \"short\"\n",
        "dog[\"age\"] = \"5\"\n",
        "\n",
        "student = {}\n",
        "student[\"first_name\"] = \"Praveena\"\n",
        "student[\"last_name\"] = \"Goli\"\n",
        "student[\"gender\"] = \"F\"\n",
        "student[\"age\"] = \"23\"\n",
        "student[\"marital_status\"] = \"Single\"\n",
        "student[\"skills\"] = [\"Python\"]\n",
        "student[\"country\"] = \"India\"\n",
        "student[\"city\"] = \"Hyd\"\n",
        "student[\"address\"] = \"12345 w 123rd st 12345\"\n",
        "length_of_student_dict = len(student)\n",
        "print(length_of_student_dict)\n",
        "\n",
        "skills = student[\"skills\"]\n",
        "print(skills)\n",
        "print(type(skills))\n",
        "\n",
        "student[\"skills\"].append(\"ML\")\n",
        "student[\"skills\"].append(\"DL\")\n",
        "\n",
        "student_keys = list(student.keys())\n",
        "print(student_keys)\n",
        "student_values = list(student.values())\n",
        "print(student_values)\n",
        "\n",
        "\n",
        "\n",
        "\n"
      ],
      "metadata": {
        "id": "LX97K6DivduV",
        "colab": {
          "base_uri": "https://localhost:8080/"
        },
        "outputId": "cdc7c4a2-9ad3-483a-e7f9-6e13074f9379"
      },
      "execution_count": null,
      "outputs": [
        {
          "output_type": "stream",
          "name": "stdout",
          "text": [
            "9\n",
            "['Python']\n",
            "<class 'list'>\n",
            "['first_name', 'last_name', 'gender', 'age', 'marital_status', 'skills', 'country', 'city', 'address']\n",
            "['Praveena', 'Goli', 'F', '23', 'Single', ['Python', 'ML', 'DL'], 'India', 'Hyd', '12345 w 123rd st 12345']\n"
          ]
        }
      ]
    },
    {
      "cell_type": "code",
      "source": [
        "# Question 3\n",
        "#  Create a tuple containing names of your sisters and your brothers (imaginary siblings are \n",
        "# fine)\n",
        "# • Join brothers and sisters tuples and assign it to siblings\n",
        "# • How many siblings do you have?\n",
        "# • Modify the siblings tuple and add the name of your father and mother and assign it to \n",
        "# family_members\n",
        "\n",
        "sisters = (\"Pranavi\", \"Prashanthi\")\n",
        "brothers = ( \"Pranay\",\"Saketh\",\"Satwik\",)\n",
        "siblings = sisters + brothers\n",
        "print(siblings)\n",
        "\n",
        "sibling_count = len(siblings)\n",
        "print(\"The siblings count is\", sibling_count)\n",
        "\n",
        "family_members = siblings + (\"Bhumaiah\", \"Vanaja\")\n",
        "print(\"The family members are\", family_members)\n"
      ],
      "metadata": {
        "id": "5Hu7KbaOvd6_",
        "colab": {
          "base_uri": "https://localhost:8080/"
        },
        "outputId": "78f8da59-b7d5-4264-b06a-bd61d42e0fdd"
      },
      "execution_count": null,
      "outputs": [
        {
          "output_type": "stream",
          "name": "stdout",
          "text": [
            "('Pranavi', 'Prashanthi', 'Pranay', 'Saketh', 'Satwik')\n",
            "The siblings count is 5\n",
            "The family members are ('Pranavi', 'Prashanthi', 'Pranay', 'Saketh', 'Satwik', 'Bhumaiah', 'Vanaja')\n"
          ]
        }
      ]
    },
    {
      "cell_type": "code",
      "source": [
        "# Question 4\n",
        "# it_companies = {'Facebook', 'Google', 'Microsoft', 'Apple', 'IBM', 'Oracle', 'Amazon'} \n",
        "# A = {19, 22, 24, 20, 25, 26}\n",
        "# B = {19, 22, 20, 25, 26, 24, 28, 27}\n",
        "# age = [22, 19, 24, 25, 26, 24, 25, 24]\n",
        "# • Find the length of the set it_companies\n",
        "# • Add 'Twitter' to it_companies\n",
        "# • Insert multiple IT companies at once to the set it_companies\n",
        "# • Remove one of the companies from the set it_companies\n",
        "# • What is the difference between remove and discard\n",
        "# • Join A and B\n",
        "# • Find A intersection B\n",
        "# • Is A subset of B\n",
        "# • Are A and B disjoint sets\n",
        "# • Join A with B and B with A\n",
        "# • What is the symmetric difference between A and B\n",
        "# • Delete the sets completely\n",
        "# • Convert the ages to a set and compare the length of the list and the set.\n",
        "\n",
        "it_companies = {'Facebook', 'Google', 'Microsoft', 'Apple', 'IBM', 'Oracle', 'Amazon'} \n",
        "A = {19, 22, 24, 20, 25, 26}\n",
        "B = {19, 22, 20, 25, 26, 24, 28, 27}\n",
        "age = [22, 19, 24, 25, 26, 24, 25, 24]\n",
        "length_of_it = len(it_companies)\n",
        "print(\"The length of the IT companies\", length_of_it)\n",
        "it_companies.add('Twitter')\n",
        "it_companies.update({\"Newgen\", \"CTS\", \"Infosys\"})\n",
        "it_companies.remove('Newgen')\n",
        "# The difference between remove and discord is that remove() raises an error if the item is not in the set, while discard() does not throw an error.\n",
        "it_companies.discard('Twitter')\n",
        "A_or_B = A.union(B)\n",
        "A_and_B = A.intersection(B)\n",
        "is_subset = A.issubset(B)\n",
        "is_disjoint = A.isdisjoint(B)\n",
        "A_and_B_and_B_and_A = A.union(B).union(B).union(A)\n",
        "symmetric_diff = A.symmetric_difference(B)\n",
        "del it_companies\n",
        "del A\n",
        "del B\n",
        "age_set = set(age)\n",
        "print(\"The length of the list\",  len(age))\n",
        "print(\"The length of the set\", len(age_set))\n"
      ],
      "metadata": {
        "colab": {
          "base_uri": "https://localhost:8080/"
        },
        "id": "A-4ltH2EB8TW",
        "outputId": "16a56d36-3f7c-40d7-dd4f-bf474413ce65"
      },
      "execution_count": null,
      "outputs": [
        {
          "output_type": "stream",
          "name": "stdout",
          "text": [
            "The length of the IT companies 7\n",
            "The length of the list 8\n",
            "The length of the set 5\n"
          ]
        }
      ]
    },
    {
      "cell_type": "code",
      "source": [
        "# Question 5\n",
        "# The radius of a circle is 30 meters.\n",
        "# • Calculate the area of a circle and assign the value to a variable name of _area_of_circle_\n",
        "# • Calculate the circumference of a circle and assign the value to a variable name of\n",
        "# _circum_of_circle_\n",
        "# • Take radius as user input and calculate the area\n",
        "\n",
        "import math\n",
        "radius = 30\n",
        "_area_of_circle_ = math.pi * radius ** 2\n",
        "print(_area_of_circle_)\n",
        "_circum_of_circle_ = 2 * math.pi * radius\n",
        "print(_circum_of_circle_)\n",
        "\n",
        "#Take radius as user input and calculate the area\n",
        "radius = float(input(\"Enter the radius of the circle in meters: \"))\n",
        "area = math.pi * radius ** 2\n",
        "print(\"The area of the circle is: \", area)\n",
        "circum = 2 * math.pi * radius\n",
        "print(\"The circum of the circle is: \",circum )\n",
        "\n"
      ],
      "metadata": {
        "id": "gm9OnaNGDT7Q",
        "colab": {
          "base_uri": "https://localhost:8080/"
        },
        "outputId": "91a01b4b-e697-4419-e61f-81c8879b1724"
      },
      "execution_count": null,
      "outputs": [
        {
          "output_type": "stream",
          "name": "stdout",
          "text": [
            "2827.4333882308138\n",
            "188.49555921538757\n",
            "Enter the radius of the circle in meters: 7\n",
            "The area of the circle is:  153.93804002589985\n",
            "The circum of the circle is:  43.982297150257104\n"
          ]
        }
      ]
    },
    {
      "cell_type": "code",
      "source": [
        "# Question 6\n",
        "# \"I am a teacher and I love to inspire and teach people”\n",
        "# • How many unique words have been used in the sentence? Use the split methods and set \n",
        "# to get the unique words.\n",
        "sentence = \"I am a teacher and I love to inspire and teach people\"\n",
        "words = sentence.split()\n",
        "unique_words = set(words)\n",
        "print(\"The length of the unique words is\", len(unique_words))\n"
      ],
      "metadata": {
        "colab": {
          "base_uri": "https://localhost:8080/"
        },
        "id": "Z_l9Q3SKraFA",
        "outputId": "638400d1-2859-4bc5-e911-49743f81d028"
      },
      "execution_count": null,
      "outputs": [
        {
          "output_type": "stream",
          "name": "stdout",
          "text": [
            "The length of the unique words is 10\n"
          ]
        }
      ]
    },
    {
      "cell_type": "code",
      "source": [
        "# Question 7\n",
        "# Use a tab escape sequence to get the following lines.\n",
        "# Name Age Country City \n",
        "# Asabeneh 250 Finland Helsinki\n",
        "print(\"Name\\tAge\\tCountry\\tCity\")\n",
        "print(\"Asabeneh\\t250\\tFinland\\tHelsinki\")\n"
      ],
      "metadata": {
        "colab": {
          "base_uri": "https://localhost:8080/"
        },
        "id": "_Tjlt4RVsrfS",
        "outputId": "b98a6323-ace8-4e67-daaf-4bde55d2314d"
      },
      "execution_count": null,
      "outputs": [
        {
          "output_type": "stream",
          "name": "stdout",
          "text": [
            "Name\tAge\tCountry\tCity\n",
            "Asabeneh\t250\tFinland\tHelsinki\n"
          ]
        }
      ]
    },
    {
      "cell_type": "code",
      "source": [
        "# Question 8\n",
        "# Use the string formatting method to display the following:\n",
        "# radius = 10\n",
        "# area = 3.14 * radius ** 2\n",
        "# “The area of a circle with radius 10 is 314 meters square.”\n",
        "radius = 10\n",
        "area = 3.14 * radius ** 2\n",
        "print(\"The area of a circle with radius {} is {:.0f} meters square.\".format(radius, area))\n"
      ],
      "metadata": {
        "colab": {
          "base_uri": "https://localhost:8080/"
        },
        "id": "TDdqVd0aszTr",
        "outputId": "e4299293-9d0a-470c-ae40-767ce3662883"
      },
      "execution_count": null,
      "outputs": [
        {
          "output_type": "stream",
          "name": "stdout",
          "text": [
            "The area of a circle with radius 10 is 314 meters square.\n"
          ]
        }
      ]
    },
    {
      "cell_type": "code",
      "source": [
        "# Question 9\n",
        "# Write a program, which reads weights (lbs.) of N students into a list and convert these weights to \n",
        "# kilograms in a separate list using Loop. N: No of students (Read input from user)\n",
        "# Ex: L1: [150, 155, 145, 148]\n",
        "# Output: [68.03, 70.3, 65.77, 67.13]\n",
        "# function to convert lbs to kgs\n",
        "L1 =[int(num) for num in input().split(\" \")]\n",
        "Weight_in_kgs=[]\n",
        "for i in L1:\n",
        "  Weight_in_kgs.append(round(i/2.205,2))\n",
        "print(\"Values are:\", Weight_in_kgs)\n"
      ],
      "metadata": {
        "colab": {
          "base_uri": "https://localhost:8080/"
        },
        "id": "mvySkvCAs-Bz",
        "outputId": "24190f64-81e0-445b-ec59-17ffffa43286"
      },
      "execution_count": null,
      "outputs": [
        {
          "output_type": "stream",
          "name": "stdout",
          "text": [
            "150 155 140 141\n",
            "Values are: [68.03, 70.29, 63.49, 63.95]\n"
          ]
        }
      ]
    }
  ]
}